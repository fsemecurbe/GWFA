{
 "cells": [
  {
   "cell_type": "code",
   "execution_count": 1,
   "metadata": {},
   "outputs": [],
   "source": [
    "!pip install -q -q -q geopandas\n",
    "!pip install -q -q -q btbpy\n",
    "!pip install -q -q -q descartes\n",
    "!pip install -q -q -q mapclassify"
   ]
  },
  {
   "cell_type": "code",
   "execution_count": 160,
   "metadata": {},
   "outputs": [],
   "source": [
    "import numpy as np\n",
    "\n",
    "import pandas as pd\n",
    "import geopandas as gpd\n",
    "import btbpy\n",
    "from shapely.geometry import Polygon\n",
    "import pyproj\n",
    "\n",
    "from sklearn.neighbors import KDTree\n",
    "from sklearn.neighbors import RadiusNeighborsRegressor"
   ]
  },
  {
   "cell_type": "markdown",
   "metadata": {},
   "source": [
    "Filosofi2015_french_grid is a population-grid dataset. Each row represents a grid cell which the side is 200 m. "
   ]
  },
  {
   "cell_type": "code",
   "execution_count": 3,
   "metadata": {},
   "outputs": [],
   "source": [
    "df = pd.read_csv('Filosofi2015_french_grid.zip', compression='zip')\n",
    "df.head(3)"
   ]
  },
  {
   "cell_type": "code",
   "execution_count": null,
   "metadata": {},
   "outputs": [],
   "source": []
  },
  {
   "cell_type": "code",
   "execution_count": 10,
   "metadata": {},
   "outputs": [],
   "source": [
    "list_of_radius=np.array([400,800, 1600,3200])"
   ]
  },
  {
   "cell_type": "code",
   "execution_count": 93,
   "metadata": {},
   "outputs": [],
   "source": [
    "neighbors = np.zeros([df.shape[0],list_of_radius.size],dtype=np.float)\n",
    "for i, r in enumerate(list_of_radius):\n",
    "    temp = tree.query_radius(df[['x', 'y']], r= r, count_only=True)\n",
    "    neigh = RadiusNeighborsRegressor(radius=r)\n",
    "    neigh.fit(df[['x', 'y']],  df.Ind)\n",
    "    neighbors[:,i] = tree.query_radius(df[['x', 'y']], r= r, count_only=True) * neigh.predict(df[['x', 'y']])"
   ]
  },
  {
   "cell_type": "code",
   "execution_count": 104,
   "metadata": {},
   "outputs": [],
   "source": [
    "toto = pd.DataFrame(neighbors)\n",
    "toto.columns = list_of_radius.astype(str)"
   ]
  },
  {
   "cell_type": "code",
   "execution_count": 108,
   "metadata": {},
   "outputs": [],
   "source": [
    "res = pd.concat([df[['x', 'y']], toto], axis=1)"
   ]
  },
  {
   "cell_type": "code",
   "execution_count": 109,
   "metadata": {},
   "outputs": [
    {
     "data": {
      "text/html": [
       "<div>\n",
       "<style scoped>\n",
       "    .dataframe tbody tr th:only-of-type {\n",
       "        vertical-align: middle;\n",
       "    }\n",
       "\n",
       "    .dataframe tbody tr th {\n",
       "        vertical-align: top;\n",
       "    }\n",
       "\n",
       "    .dataframe thead th {\n",
       "        text-align: right;\n",
       "    }\n",
       "</style>\n",
       "<table border=\"1\" class=\"dataframe\">\n",
       "  <thead>\n",
       "    <tr style=\"text-align: right;\">\n",
       "      <th></th>\n",
       "      <th>x</th>\n",
       "      <th>y</th>\n",
       "      <th>400</th>\n",
       "      <th>800</th>\n",
       "      <th>1600</th>\n",
       "      <th>3200</th>\n",
       "    </tr>\n",
       "  </thead>\n",
       "  <tbody>\n",
       "    <tr>\n",
       "      <th>0</th>\n",
       "      <td>3763200</td>\n",
       "      <td>2893400</td>\n",
       "      <td>17469.0</td>\n",
       "      <td>48946.5</td>\n",
       "      <td>168583.5</td>\n",
       "      <td>688245.5</td>\n",
       "    </tr>\n",
       "    <tr>\n",
       "      <th>1</th>\n",
       "      <td>3762200</td>\n",
       "      <td>2890000</td>\n",
       "      <td>18336.0</td>\n",
       "      <td>72510.5</td>\n",
       "      <td>272923.5</td>\n",
       "      <td>891664.0</td>\n",
       "    </tr>\n",
       "    <tr>\n",
       "      <th>2</th>\n",
       "      <td>3762400</td>\n",
       "      <td>2893400</td>\n",
       "      <td>8212.0</td>\n",
       "      <td>59530.5</td>\n",
       "      <td>180530.5</td>\n",
       "      <td>754562.0</td>\n",
       "    </tr>\n",
       "    <tr>\n",
       "      <th>3</th>\n",
       "      <td>3763600</td>\n",
       "      <td>2891800</td>\n",
       "      <td>14545.0</td>\n",
       "      <td>66759.0</td>\n",
       "      <td>268882.5</td>\n",
       "      <td>821605.5</td>\n",
       "    </tr>\n",
       "    <tr>\n",
       "      <th>4</th>\n",
       "      <td>3763200</td>\n",
       "      <td>2890800</td>\n",
       "      <td>23431.0</td>\n",
       "      <td>86522.0</td>\n",
       "      <td>294591.0</td>\n",
       "      <td>913469.0</td>\n",
       "    </tr>\n",
       "  </tbody>\n",
       "</table>\n",
       "</div>"
      ],
      "text/plain": [
       "         x        y      400      800      1600      3200\n",
       "0  3763200  2893400  17469.0  48946.5  168583.5  688245.5\n",
       "1  3762200  2890000  18336.0  72510.5  272923.5  891664.0\n",
       "2  3762400  2893400   8212.0  59530.5  180530.5  754562.0\n",
       "3  3763600  2891800  14545.0  66759.0  268882.5  821605.5\n",
       "4  3763200  2890800  23431.0  86522.0  294591.0  913469.0"
      ]
     },
     "execution_count": 109,
     "metadata": {},
     "output_type": "execute_result"
    }
   ],
   "source": [
    "res.head()"
   ]
  },
  {
   "cell_type": "code",
   "execution_count": 107,
   "metadata": {},
   "outputs": [
    {
     "data": {
      "text/html": [
       "<div>\n",
       "<style scoped>\n",
       "    .dataframe tbody tr th:only-of-type {\n",
       "        vertical-align: middle;\n",
       "    }\n",
       "\n",
       "    .dataframe tbody tr th {\n",
       "        vertical-align: top;\n",
       "    }\n",
       "\n",
       "    .dataframe thead th {\n",
       "        text-align: right;\n",
       "    }\n",
       "</style>\n",
       "<table border=\"1\" class=\"dataframe\">\n",
       "  <thead>\n",
       "    <tr style=\"text-align: right;\">\n",
       "      <th></th>\n",
       "      <th>400</th>\n",
       "      <th>800</th>\n",
       "      <th>1600</th>\n",
       "      <th>3200</th>\n",
       "    </tr>\n",
       "  </thead>\n",
       "  <tbody>\n",
       "    <tr>\n",
       "      <th>0</th>\n",
       "      <td>17469.0</td>\n",
       "      <td>48946.5</td>\n",
       "      <td>168583.5</td>\n",
       "      <td>688245.5</td>\n",
       "    </tr>\n",
       "    <tr>\n",
       "      <th>1</th>\n",
       "      <td>18336.0</td>\n",
       "      <td>72510.5</td>\n",
       "      <td>272923.5</td>\n",
       "      <td>891664.0</td>\n",
       "    </tr>\n",
       "    <tr>\n",
       "      <th>2</th>\n",
       "      <td>8212.0</td>\n",
       "      <td>59530.5</td>\n",
       "      <td>180530.5</td>\n",
       "      <td>754562.0</td>\n",
       "    </tr>\n",
       "    <tr>\n",
       "      <th>3</th>\n",
       "      <td>14545.0</td>\n",
       "      <td>66759.0</td>\n",
       "      <td>268882.5</td>\n",
       "      <td>821605.5</td>\n",
       "    </tr>\n",
       "    <tr>\n",
       "      <th>4</th>\n",
       "      <td>23431.0</td>\n",
       "      <td>86522.0</td>\n",
       "      <td>294591.0</td>\n",
       "      <td>913469.0</td>\n",
       "    </tr>\n",
       "  </tbody>\n",
       "</table>\n",
       "</div>"
      ],
      "text/plain": [
       "       400      800      1600      3200\n",
       "0  17469.0  48946.5  168583.5  688245.5\n",
       "1  18336.0  72510.5  272923.5  891664.0\n",
       "2   8212.0  59530.5  180530.5  754562.0\n",
       "3  14545.0  66759.0  268882.5  821605.5\n",
       "4  23431.0  86522.0  294591.0  913469.0"
      ]
     },
     "execution_count": 107,
     "metadata": {},
     "output_type": "execute_result"
    }
   ],
   "source": [
    "toto.head()"
   ]
  },
  {
   "cell_type": "code",
   "execution_count": 103,
   "metadata": {},
   "outputs": [
    {
     "data": {
      "text/plain": [
       "(2289077, 4)"
      ]
     },
     "execution_count": 103,
     "metadata": {},
     "output_type": "execute_result"
    }
   ],
   "source": [
    "neighbors.shape"
   ]
  },
  {
   "cell_type": "code",
   "execution_count": 70,
   "metadata": {},
   "outputs": [],
   "source": [
    "temp = tree.query_radius(df[['x', 'y']], r= 400, count_only=True)\n",
    "neigh = RadiusNeighborsRegressor(radius=400)\n",
    "neigh.fit(df[['x', 'y']],  df.Ind)\n",
    "toto = neigh.predict(df[['x', 'y']])"
   ]
  },
  {
   "cell_type": "code",
   "execution_count": 72,
   "metadata": {},
   "outputs": [
    {
     "data": {
      "text/plain": [
       "array([1.7469e+04, 1.8336e+04, 8.2120e+03, ..., 1.0950e+02, 1.5450e+02,\n",
       "       1.8000e+01])"
      ]
     },
     "execution_count": 72,
     "metadata": {},
     "output_type": "execute_result"
    }
   ],
   "source": [
    "toto * temp"
   ]
  },
  {
   "cell_type": "code",
   "execution_count": 8,
   "metadata": {},
   "outputs": [],
   "source": [
    "neighbors = np.zeros((df.shape[0],radius.size),dtype=np.float)"
   ]
  },
  {
   "cell_type": "code",
   "execution_count": 11,
   "metadata": {},
   "outputs": [],
   "source": [
    "radius = list_of_radius[0]"
   ]
  },
  {
   "cell_type": "code",
   "execution_count": 12,
   "metadata": {},
   "outputs": [],
   "source": [
    "tree = KDTree(df[['x', 'y']])"
   ]
  },
  {
   "cell_type": "code",
   "execution_count": 71,
   "metadata": {},
   "outputs": [],
   "source": [
    "temp2 = tree.query_radius(df[['x', 'y']], r= 400, count_only=False)"
   ]
  },
  {
   "cell_type": "code",
   "execution_count": 80,
   "metadata": {},
   "outputs": [
    {
     "data": {
      "text/plain": [
       "109.5"
      ]
     },
     "execution_count": 80,
     "metadata": {},
     "output_type": "execute_result"
    }
   ],
   "source": [
    "df.Ind[temp2[-3]].sum()"
   ]
  },
  {
   "cell_type": "code",
   "execution_count": 44,
   "metadata": {},
   "outputs": [],
   "source": [
    "toto =  [df.Ind[indices] for indices in temp[:100000]]"
   ]
  },
  {
   "cell_type": "code",
   "execution_count": 57,
   "metadata": {},
   "outputs": [],
   "source": [
    "\n"
   ]
  },
  {
   "cell_type": "code",
   "execution_count": 59,
   "metadata": {},
   "outputs": [
    {
     "data": {
      "text/plain": [
       "RadiusNeighborsRegressor(algorithm='auto', leaf_size=30, metric='minkowski',\n",
       "                         metric_params=None, n_jobs=None, p=2, radius=200,\n",
       "                         weights='uniform')"
      ]
     },
     "execution_count": 59,
     "metadata": {},
     "output_type": "execute_result"
    }
   ],
   "source": [
    "neigh.fit(df[['x', 'y']],  df.Ind)"
   ]
  },
  {
   "cell_type": "code",
   "execution_count": 60,
   "metadata": {},
   "outputs": [],
   "source": [
    "toto = neigh.predict(df[['x', 'y']])"
   ]
  },
  {
   "cell_type": "code",
   "execution_count": 62,
   "metadata": {},
   "outputs": [],
   "source": [
    "toto2 = neigh.radius_neighbors(df[['x', 'y']], return_distance=False)"
   ]
  },
  {
   "cell_type": "code",
   "execution_count": 67,
   "metadata": {},
   "outputs": [
    {
     "data": {
      "text/plain": [
       "array([2.01780000e+04, 1.93830000e+04, 7.94887500e+03, ...,\n",
       "       1.03000000e+02, 9.58333333e+01, 1.65000000e+01])"
      ]
     },
     "execution_count": 67,
     "metadata": {},
     "output_type": "execute_result"
    }
   ],
   "source": [
    "toto * temp"
   ]
  },
  {
   "cell_type": "code",
   "execution_count": 48,
   "metadata": {},
   "outputs": [],
   "source": [
    "db = DBSCAN(eps=200, min_samples=10).fit(df[['x', 'y']], sample_weight=df.Ind)"
   ]
  },
  {
   "cell_type": "code",
   "execution_count": 50,
   "metadata": {},
   "outputs": [
    {
     "data": {
      "text/plain": [
       "['__class__',\n",
       " '__delattr__',\n",
       " '__dict__',\n",
       " '__dir__',\n",
       " '__doc__',\n",
       " '__eq__',\n",
       " '__format__',\n",
       " '__ge__',\n",
       " '__getattribute__',\n",
       " '__getstate__',\n",
       " '__gt__',\n",
       " '__hash__',\n",
       " '__init__',\n",
       " '__init_subclass__',\n",
       " '__le__',\n",
       " '__lt__',\n",
       " '__module__',\n",
       " '__ne__',\n",
       " '__new__',\n",
       " '__reduce__',\n",
       " '__reduce_ex__',\n",
       " '__repr__',\n",
       " '__setattr__',\n",
       " '__setstate__',\n",
       " '__sizeof__',\n",
       " '__str__',\n",
       " '__subclasshook__',\n",
       " '__weakref__',\n",
       " '_estimator_type',\n",
       " '_get_param_names',\n",
       " '_get_tags',\n",
       " '_more_tags',\n",
       " 'algorithm',\n",
       " 'components_',\n",
       " 'core_sample_indices_',\n",
       " 'eps',\n",
       " 'fit',\n",
       " 'fit_predict',\n",
       " 'get_params',\n",
       " 'labels_',\n",
       " 'leaf_size',\n",
       " 'metric',\n",
       " 'metric_params',\n",
       " 'min_samples',\n",
       " 'n_jobs',\n",
       " 'p',\n",
       " 'set_params']"
      ]
     },
     "execution_count": 50,
     "metadata": {},
     "output_type": "execute_result"
    }
   ],
   "source": [
    "dir(db)"
   ]
  },
  {
   "cell_type": "code",
   "execution_count": 55,
   "metadata": {},
   "outputs": [],
   "source": [
    "db.n_jobs"
   ]
  },
  {
   "cell_type": "code",
   "execution_count": 24,
   "metadata": {},
   "outputs": [
    {
     "data": {
      "text/plain": [
       "[2, 4, 6, 8]"
      ]
     },
     "execution_count": 24,
     "metadata": {},
     "output_type": "execute_result"
    }
   ],
   "source": [
    "result"
   ]
  },
  {
   "cell_type": "code",
   "execution_count": 16,
   "metadata": {},
   "outputs": [],
   "source": [
    "neighbors=np.zeros((df.shape[0],radius.size),dtype=np.float)\n",
    "tree = KDTree(df[['x', 'y']])\n",
    "for i in range(radius.size):\n",
    "    neighbors[:,i]=tree.query_radius(df[['x', 'y']],r= radius[i],count_only=True,return_distance=False)\n",
    "    output=np.column_stack([df[['x', 'y']],neighbors])\n",
    "    names=np.hstack([['x','y'], np.core.defchararray.add('r_',np.char.mod('%d', radius))])\n",
    "    output=pd.DataFrame(output,columns=names)"
   ]
  },
  {
   "cell_type": "code",
   "execution_count": 149,
   "metadata": {},
   "outputs": [
    {
     "name": "stderr",
     "output_type": "stream",
     "text": [
      "/opt/conda/lib/python3.7/site-packages/pyproj/crs/crs.py:53: FutureWarning: '+init=<authority>:<code>' syntax is deprecated. '<authority>:<code>' is the preferred initialization method. When making the change, be mindful of axis order changes: https://pyproj4.github.io/pyproj/stable/gotchas.html#axis-order-changes-in-proj-6\n",
      "  return _prepare_from_string(\" \".join(pjargs))\n"
     ]
    }
   ],
   "source": [
    "scale_function = btbpy.kernelSmoothing(res, '3035', 2000, 25000, verbose=False)"
   ]
  },
  {
   "cell_type": "code",
   "execution_count": null,
   "metadata": {},
   "outputs": [],
   "source": []
  },
  {
   "cell_type": "code",
   "execution_count": 150,
   "metadata": {},
   "outputs": [],
   "source": [
    "scale_function['D'] = np.log(scale_function['3200']) - np.log(scale_function['1600']) "
   ]
  },
  {
   "cell_type": "code",
   "execution_count": 151,
   "metadata": {},
   "outputs": [],
   "source": [
    "from sklearn.linear_model import LinearRegression"
   ]
  },
  {
   "cell_type": "code",
   "execution_count": 152,
   "metadata": {},
   "outputs": [],
   "source": [
    "D = scale_function[list_of_radius.astype(str)].apply(lambda x :LinearRegression().fit(np.log(list_of_radius).reshape(4,1), np.log(x)).coef_[0] ,   axis=1 ) "
   ]
  },
  {
   "cell_type": "code",
   "execution_count": 126,
   "metadata": {},
   "outputs": [],
   "source": [
    "scale_function['D'] = D"
   ]
  },
  {
   "cell_type": "code",
   "execution_count": 127,
   "metadata": {},
   "outputs": [
    {
     "data": {
      "text/plain": [
       "0         1.309576\n",
       "1         1.314727\n",
       "2         1.318117\n",
       "3         1.320282\n",
       "4         1.321561\n",
       "            ...   \n",
       "147533    1.464733\n",
       "147534    1.451395\n",
       "147535    1.438654\n",
       "147536    1.434544\n",
       "147537    1.438845\n",
       "Length: 147538, dtype: float64"
      ]
     },
     "execution_count": 127,
     "metadata": {},
     "output_type": "execute_result"
    }
   ],
   "source": [
    "D"
   ]
  },
  {
   "cell_type": "code",
   "execution_count": 153,
   "metadata": {},
   "outputs": [
    {
     "data": {
      "text/plain": [
       "<matplotlib.axes._subplots.AxesSubplot at 0x7f4c0f651790>"
      ]
     },
     "execution_count": 153,
     "metadata": {},
     "output_type": "execute_result"
    },
    {
     "data": {
      "image/png": "[encoded data removed]",
      "text/plain": [
       "<Figure size 720x720 with 1 Axes>"
      ]
     },
     "metadata": {
      "needs_background": "light"
     },
     "output_type": "display_data"
    }
   ],
   "source": [
    "bins = [1, 1.25, 1.5, 1.75]\n",
    "scale_function.plot('D', scheme = 'User_Defined', classification_kwds={'bins':bins}, figsize=(10,10), legend=True, cmap='OrRd')"
   ]
  },
  {
   "cell_type": "code",
   "execution_count": 157,
   "metadata": {},
   "outputs": [
    {
     "name": "stderr",
     "output_type": "stream",
     "text": [
      "/opt/conda/lib/python3.7/site-packages/pyproj/crs/crs.py:53: FutureWarning: '+init=<authority>:<code>' syntax is deprecated. '<authority>:<code>' is the preferred initialization method. When making the change, be mindful of axis order changes: https://pyproj4.github.io/pyproj/stable/gotchas.html#axis-order-changes-in-proj-6\n",
      "  return _prepare_from_string(\" \".join(pjargs))\n"
     ]
    }
   ],
   "source": [
    "res2 = res.copy()\n",
    "res2[list_of_radius.astype(str)] = res2[list_of_radius.astype(str)]**(-1) \n",
    "scale_function2 = btbpy.kernelSmoothing(res2, '3035', 2000, 20000, verbose=False)"
   ]
  },
  {
   "cell_type": "code",
   "execution_count": 158,
   "metadata": {},
   "outputs": [],
   "source": [
    "scale_function2['D'] = scale_function2[list_of_radius.astype(str)].apply(lambda x :-LinearRegression().fit(np.log(list_of_radius).reshape(4,1), np.log(x)).coef_[0] ,   axis=1 ) "
   ]
  },
  {
   "cell_type": "code",
   "execution_count": 159,
   "metadata": {},
   "outputs": [
    {
     "data": {
      "text/plain": [
       "<matplotlib.axes._subplots.AxesSubplot at 0x7f4b63c6bb90>"
      ]
     },
     "execution_count": 159,
     "metadata": {},
     "output_type": "execute_result"
    },
    {
     "data": {
      "image/png": "[encoded data removed]",
      "text/plain": [
       "<Figure size 720x720 with 1 Axes>"
      ]
     },
     "metadata": {
      "needs_background": "light"
     },
     "output_type": "display_data"
    }
   ],
   "source": [
    "bins = [1, 1.25, 1.5, 1.75]\n",
    "scale_function2.plot('D', scheme = 'User_Defined', classification_kwds={'bins':bins}, figsize=(10,10), legend=True, cmap='OrRd')"
   ]
  },
  {
   "cell_type": "code",
   "execution_count": 141,
   "metadata": {},
   "outputs": [],
   "source": [
    "scale_function2['toto'] = scale_function2['D'] - scale_function['D']"
   ]
  },
  {
   "cell_type": "code",
   "execution_count": 145,
   "metadata": {},
   "outputs": [
    {
     "data": {
      "text/plain": [
       "<matplotlib.axes._subplots.AxesSubplot at 0x7f4b920f2390>"
      ]
     },
     "execution_count": 145,
     "metadata": {},
     "output_type": "execute_result"
    },
    {
     "data": {
      "image/png": "[encoded data removed]",
      "text/plain": [
       "<Figure size 720x720 with 1 Axes>"
      ]
     },
     "metadata": {
      "needs_background": "light"
     },
     "output_type": "display_data"
    }
   ],
   "source": [
    "bins = [0]\n",
    "scale_function2.plot('toto', scheme = 'User_Defined', classification_kwds={'bins':bins}, figsize=(10,10), legend=True, cmap='OrRd')"
   ]
  },
  {
   "cell_type": "code",
   "execution_count": 146,
   "metadata": {},
   "outputs": [],
   "source": [
    "tutu = scale_function2[scale_function2.toto<0]"
   ]
  },
  {
   "cell_type": "code",
   "execution_count": 148,
   "metadata": {},
   "outputs": [
    {
     "data": {
      "text/plain": [
       "count    2470.000000\n",
       "mean       -0.190674\n",
       "std         0.204378\n",
       "min        -1.802556\n",
       "25%        -0.262627\n",
       "50%        -0.124942\n",
       "75%        -0.052237\n",
       "max        -0.000058\n",
       "Name: toto, dtype: float64"
      ]
     },
     "execution_count": 148,
     "metadata": {},
     "output_type": "execute_result"
    }
   ],
   "source": [
    "tutu.toto.describe()"
   ]
  },
  {
   "cell_type": "code",
   "execution_count": null,
   "metadata": {},
   "outputs": [],
   "source": []
  }
 ],
 "metadata": {
  "kernelspec": {
   "display_name": "Python 3",
   "language": "python",
   "name": "python3"
  },
  "language_info": {
   "codemirror_mode": {
    "name": "ipython",
    "version": 3
   },
   "file_extension": ".py",
   "mimetype": "text/x-python",
   "name": "python",
   "nbconvert_exporter": "python",
   "pygments_lexer": "ipython3",
   "version": "3.7.6"
  }
 },
 "nbformat": 4,
 "nbformat_minor": 4
}
